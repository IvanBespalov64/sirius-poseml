{
 "cells": [
  {
   "cell_type": "code",
   "execution_count": 26,
   "metadata": {},
   "outputs": [],
   "source": [
    "import os\n",
    "\n",
    "ds_dir = \"/ds/dataset2/0\"\n",
    "\n",
    "def list_full_path(a):\n",
    "    return list(os.path.join(a, fname) for fname in os.listdir(a))"
   ]
  },
  {
   "cell_type": "code",
   "execution_count": 16,
   "metadata": {},
   "outputs": [],
   "source": [
    "os.chdir(\"/source\")"
   ]
  },
  {
   "cell_type": "code",
   "execution_count": 20,
   "metadata": {},
   "outputs": [],
   "source": [
    "from pose import get_pose"
   ]
  },
  {
   "cell_type": "code",
   "execution_count": 50,
   "metadata": {},
   "outputs": [
    {
     "name": "stdout",
     "output_type": "stream",
     "text": [
      "Processing 1 out of 2697, /ds/dataset2/0/0001_VID_20191222_152405.mp4.jpg\n",
      "Processing 2 out of 2697, /ds/dataset2/0/0002_VID_20191222_152405.mp4.jpg\n",
      "Processing 3 out of 2697, /ds/dataset2/0/0003_VID_20191222_152405.mp4.jpg\n",
      "Processing 4 out of 2697, /ds/dataset2/0/0004_VID_20191222_152405.mp4.jpg\n",
      "Processing 5 out of 2697, /ds/dataset2/0/0005_VID_20191222_152405.mp4.jpg\n",
      "Processing 6 out of 2697, /ds/dataset2/0/0006_VID_20191222_152405.mp4.jpg\n",
      "Processing 7 out of 2697, /ds/dataset2/0/0007_VID_20191222_152405.mp4.jpg\n",
      "Processing 8 out of 2697, /ds/dataset2/0/0008_VID_20191222_152405.mp4.jpg\n",
      "Processing 9 out of 2697, /ds/dataset2/0/0009_VID_20191222_152405.mp4.jpg\n",
      "Processing 10 out of 2697, /ds/dataset2/0/0010_VID_20191222_152405.mp4.jpg\n",
      "Processing 11 out of 2697, /ds/dataset2/0/0011_VID_20191222_152405.mp4.jpg\n",
      "Processing 12 out of 2697, /ds/dataset2/0/0012_VID_20191222_152405.mp4.jpg\n",
      "Processing 13 out of 2697, /ds/dataset2/0/0013_VID_20191222_152405.mp4.jpg\n",
      "Processing 14 out of 2697, /ds/dataset2/0/0014_VID_20191222_152405.mp4.jpg\n",
      "Processing 15 out of 2697, /ds/dataset2/0/0015_VID_20191222_152405.mp4.jpg\n",
      "Processing 16 out of 2697, /ds/dataset2/0/0016_VID_20191222_152405.mp4.jpg\n",
      "Processing 17 out of 2697, /ds/dataset2/0/0017_VID_20191222_152405.mp4.jpg\n",
      "Processing 18 out of 2697, /ds/dataset2/0/0018_VID_20191222_152405.mp4.jpg\n",
      "Processing 19 out of 2697, /ds/dataset2/0/0019_VID_20191222_152405.mp4.jpg\n",
      "Processing 20 out of 2697, /ds/dataset2/0/0020_VID_20191222_152405.mp4.jpg\n",
      "Processing 21 out of 2697, /ds/dataset2/0/0021_VID_20191222_152405.mp4.jpg\n",
      "Processing 22 out of 2697, /ds/dataset2/0/0022_VID_20191222_152405.mp4.jpg\n",
      "Processing 23 out of 2697, /ds/dataset2/0/0023_VID_20191222_152405.mp4.jpg\n",
      "Processing 24 out of 2697, /ds/dataset2/0/0024_VID_20191222_152405.mp4.jpg\n",
      "Processing 25 out of 2697, /ds/dataset2/0/0025_VID_20191222_152405.mp4.jpg\n",
      "Processing 26 out of 2697, /ds/dataset2/0/0026_VID_20191222_152405.mp4.jpg\n",
      "Processing 27 out of 2697, /ds/dataset2/0/0027_VID_20191222_152405.mp4.jpg\n",
      "Processing 28 out of 2697, /ds/dataset2/0/0028_VID_20191222_152405.mp4.jpg\n",
      "Processing 29 out of 2697, /ds/dataset2/0/0029_VID_20191222_152405.mp4.jpg\n",
      "Processing 30 out of 2697, /ds/dataset2/0/0030_VID_20191222_152405.mp4.jpg\n",
      "Processing 31 out of 2697, /ds/dataset2/0/0031_VID_20191222_152405.mp4.jpg\n",
      "Processing 32 out of 2697, /ds/dataset2/0/0032_VID_20191222_152405.mp4.jpg\n",
      "Processing 33 out of 2697, /ds/dataset2/0/0033_VID_20191222_152405.mp4.jpg\n",
      "Processing 34 out of 2697, /ds/dataset2/0/0034_VID_20191222_152405.mp4.jpg\n",
      "Processing 35 out of 2697, /ds/dataset2/0/0035_VID_20191222_152405.mp4.jpg\n",
      "Processing 36 out of 2697, /ds/dataset2/0/0036_VID_20191222_152405.mp4.jpg\n",
      "Processing 37 out of 2697, /ds/dataset2/0/0037_VID_20191222_152405.mp4.jpg\n",
      "Processing 38 out of 2697, /ds/dataset2/0/0038_VID_20191222_152405.mp4.jpg\n",
      "Processing 39 out of 2697, /ds/dataset2/0/0039_VID_20191222_152405.mp4.jpg\n",
      "Processing 40 out of 2697, /ds/dataset2/0/0040_VID_20191222_152405.mp4.jpg\n",
      "Processing 41 out of 2697, /ds/dataset2/0/0041_VID_20191222_152405.mp4.jpg\n",
      "Processing 42 out of 2697, /ds/dataset2/0/0042_VID_20191222_152405.mp4.jpg\n",
      "Processing 43 out of 2697, /ds/dataset2/0/0043_VID_20191222_152405.mp4.jpg\n",
      "Processing 44 out of 2697, /ds/dataset2/0/0044_VID_20191222_152405.mp4.jpg\n",
      "Processing 45 out of 2697, /ds/dataset2/0/0045_VID_20191222_152405.mp4.jpg\n",
      "Processing 46 out of 2697, /ds/dataset2/0/0046_VID_20191222_152405.mp4.jpg\n",
      "Processing 47 out of 2697, /ds/dataset2/0/0047_VID_20191222_152405.mp4.jpg\n",
      "Processing 48 out of 2697, /ds/dataset2/0/0048_VID_20191222_152405.mp4.jpg\n",
      "Processing 49 out of 2697, /ds/dataset2/0/0049_VID_20191222_152405.mp4.jpg\n",
      "Processing 50 out of 2697, /ds/dataset2/0/0050_VID_20191222_152405.mp4.jpg\n",
      "Processing 51 out of 2697, /ds/dataset2/0/0051_VID_20191222_152405.mp4.jpg\n",
      "Processing 52 out of 2697, /ds/dataset2/0/0052_VID_20191222_152405.mp4.jpg\n",
      "Processing 53 out of 2697, /ds/dataset2/0/0053_VID_20191222_152405.mp4.jpg\n",
      "Processing 54 out of 2697, /ds/dataset2/0/0054_VID_20191222_152405.mp4.jpg\n",
      "Processing 55 out of 2697, /ds/dataset2/0/0055_VID_20191222_152405.mp4.jpg\n",
      "Processing 56 out of 2697, /ds/dataset2/0/0056_VID_20191222_152405.mp4.jpg\n",
      "Processing 57 out of 2697, /ds/dataset2/0/0057_VID_20191222_152405.mp4.jpg\n",
      "Processing 58 out of 2697, /ds/dataset2/0/0058_VID_20191222_152405.mp4.jpg\n",
      "Processing 59 out of 2697, /ds/dataset2/0/0059_VID_20191222_152405.mp4.jpg\n",
      "Processing 60 out of 2697, /ds/dataset2/0/0060_VID_20191222_152405.mp4.jpg\n",
      "Processing 61 out of 2697, /ds/dataset2/0/0061_VID_20191222_152405.mp4.jpg\n",
      "Processing 62 out of 2697, /ds/dataset2/0/0062_VID_20191222_152405.mp4.jpg\n",
      "Processing 63 out of 2697, /ds/dataset2/0/0063_VID_20191222_152405.mp4.jpg\n",
      "Processing 64 out of 2697, /ds/dataset2/0/0064_VID_20191222_152405.mp4.jpg\n",
      "Processing 65 out of 2697, /ds/dataset2/0/0065_VID_20191222_152405.mp4.jpg\n",
      "Processing 66 out of 2697, /ds/dataset2/0/0066_VID_20191222_152405.mp4.jpg\n",
      "Processing 67 out of 2697, /ds/dataset2/0/0067_VID_20191222_152405.mp4.jpg\n",
      "Processing 68 out of 2697, /ds/dataset2/0/0068_VID_20191222_152405.mp4.jpg\n",
      "Processing 69 out of 2697, /ds/dataset2/0/0069_VID_20191222_152405.mp4.jpg\n",
      "Processing 70 out of 2697, /ds/dataset2/0/0070_VID_20191222_152405.mp4.jpg\n",
      "Processing 71 out of 2697, /ds/dataset2/0/0071_VID_20191222_152405.mp4.jpg\n",
      "Processing 72 out of 2697, /ds/dataset2/0/0072_VID_20191222_152405.mp4.jpg\n",
      "Processing 73 out of 2697, /ds/dataset2/0/0073_VID_20191222_152405.mp4.jpg\n",
      "Processing 74 out of 2697, /ds/dataset2/0/0074_VID_20191222_152405.mp4.jpg\n",
      "Processing 75 out of 2697, /ds/dataset2/0/0075_VID_20191222_152405.mp4.jpg\n",
      "Processing 76 out of 2697, /ds/dataset2/0/0076_VID_20191222_152405.mp4.jpg\n",
      "Processing 77 out of 2697, /ds/dataset2/0/0077_VID_20191222_152405.mp4.jpg\n"
     ]
    },
    {
     "ename": "KeyboardInterrupt",
     "evalue": "",
     "output_type": "error",
     "traceback": [
      "\u001b[0;31m---------------------------------------------------------------------------\u001b[0m",
      "\u001b[0;31mKeyboardInterrupt\u001b[0m                         Traceback (most recent call last)",
      "\u001b[0;32m<ipython-input-50-2399f79aa038>\u001b[0m in \u001b[0;36m<module>\u001b[0;34m\u001b[0m\n\u001b[1;32m     22\u001b[0m \u001b[0;34m\u001b[0m\u001b[0m\n\u001b[1;32m     23\u001b[0m dirs = [\n\u001b[0;32m---> 24\u001b[0;31m     \u001b[0;34m(\u001b[0m\u001b[0;36m0\u001b[0m\u001b[0;34m,\u001b[0m \u001b[0mprocess_folder\u001b[0m\u001b[0;34m(\u001b[0m\u001b[0;34m\"/ds/dataset2/0\"\u001b[0m\u001b[0;34m)\u001b[0m\u001b[0;34m)\u001b[0m\u001b[0;34m,\u001b[0m\u001b[0;34m\u001b[0m\u001b[0;34m\u001b[0m\u001b[0m\n\u001b[0m\u001b[1;32m     25\u001b[0m     \u001b[0;34m(\u001b[0m\u001b[0;36m1\u001b[0m\u001b[0;34m,\u001b[0m \u001b[0mprocess_folder\u001b[0m\u001b[0;34m(\u001b[0m\u001b[0;34m\"/ds/dataset2/1\"\u001b[0m\u001b[0;34m)\u001b[0m\u001b[0;34m)\u001b[0m\u001b[0;34m,\u001b[0m\u001b[0;34m\u001b[0m\u001b[0;34m\u001b[0m\u001b[0m\n\u001b[1;32m     26\u001b[0m     \u001b[0;34m(\u001b[0m\u001b[0;36m2\u001b[0m\u001b[0;34m,\u001b[0m \u001b[0mprocess_folder\u001b[0m\u001b[0;34m(\u001b[0m\u001b[0;34m\"/ds/dataset2/2\"\u001b[0m\u001b[0;34m)\u001b[0m\u001b[0;34m)\u001b[0m\u001b[0;34m,\u001b[0m\u001b[0;34m\u001b[0m\u001b[0;34m\u001b[0m\u001b[0m\n",
      "\u001b[0;32m<ipython-input-50-2399f79aa038>\u001b[0m in \u001b[0;36mprocess_folder\u001b[0;34m(folder)\u001b[0m\n\u001b[1;32m     19\u001b[0m \u001b[0;34m\u001b[0m\u001b[0m\n\u001b[1;32m     20\u001b[0m \u001b[0;32mdef\u001b[0m \u001b[0mprocess_folder\u001b[0m\u001b[0;34m(\u001b[0m\u001b[0mfolder\u001b[0m\u001b[0;34m)\u001b[0m\u001b[0;34m:\u001b[0m\u001b[0;34m\u001b[0m\u001b[0;34m\u001b[0m\u001b[0m\n\u001b[0;32m---> 21\u001b[0;31m     \u001b[0;32mreturn\u001b[0m \u001b[0mnp\u001b[0m\u001b[0;34m.\u001b[0m\u001b[0marray\u001b[0m\u001b[0;34m(\u001b[0m\u001b[0mlist\u001b[0m\u001b[0;34m(\u001b[0m\u001b[0mrecognize_pose_folder\u001b[0m\u001b[0;34m(\u001b[0m\u001b[0mfolder\u001b[0m\u001b[0;34m)\u001b[0m\u001b[0;34m)\u001b[0m\u001b[0;34m)\u001b[0m\u001b[0;34m\u001b[0m\u001b[0;34m\u001b[0m\u001b[0m\n\u001b[0m\u001b[1;32m     22\u001b[0m \u001b[0;34m\u001b[0m\u001b[0m\n\u001b[1;32m     23\u001b[0m dirs = [\n",
      "\u001b[0;32m<ipython-input-50-2399f79aa038>\u001b[0m in \u001b[0;36mrecognize_pose_folder\u001b[0;34m(folder)\u001b[0m\n\u001b[1;32m     16\u001b[0m         \u001b[0mcurrent\u001b[0m \u001b[0;34m+=\u001b[0m \u001b[0;36m1\u001b[0m\u001b[0;34m\u001b[0m\u001b[0;34m\u001b[0m\u001b[0m\n\u001b[1;32m     17\u001b[0m         \u001b[0mprint\u001b[0m\u001b[0;34m(\u001b[0m\u001b[0;34mf\"Processing {current} out of {full}, {img_src}\"\u001b[0m\u001b[0;34m)\u001b[0m\u001b[0;34m\u001b[0m\u001b[0;34m\u001b[0m\u001b[0m\n\u001b[0;32m---> 18\u001b[0;31m         \u001b[0;32myield\u001b[0m \u001b[0;34m(\u001b[0m\u001b[0mprocess_photo\u001b[0m\u001b[0;34m(\u001b[0m\u001b[0mimg_src\u001b[0m\u001b[0;34m)\u001b[0m\u001b[0;34m)\u001b[0m\u001b[0;34m\u001b[0m\u001b[0;34m\u001b[0m\u001b[0m\n\u001b[0m\u001b[1;32m     19\u001b[0m \u001b[0;34m\u001b[0m\u001b[0m\n\u001b[1;32m     20\u001b[0m \u001b[0;32mdef\u001b[0m \u001b[0mprocess_folder\u001b[0m\u001b[0;34m(\u001b[0m\u001b[0mfolder\u001b[0m\u001b[0;34m)\u001b[0m\u001b[0;34m:\u001b[0m\u001b[0;34m\u001b[0m\u001b[0;34m\u001b[0m\u001b[0m\n",
      "\u001b[0;32m<ipython-input-50-2399f79aa038>\u001b[0m in \u001b[0;36mprocess_photo\u001b[0;34m(img_src)\u001b[0m\n\u001b[1;32m      7\u001b[0m \u001b[0;34m\u001b[0m\u001b[0m\n\u001b[1;32m      8\u001b[0m \u001b[0;32mdef\u001b[0m \u001b[0mprocess_photo\u001b[0m\u001b[0;34m(\u001b[0m\u001b[0mimg_src\u001b[0m\u001b[0;34m)\u001b[0m\u001b[0;34m:\u001b[0m\u001b[0;34m\u001b[0m\u001b[0;34m\u001b[0m\u001b[0m\n\u001b[0;32m----> 9\u001b[0;31m     \u001b[0;32mreturn\u001b[0m \u001b[0mclip_pose\u001b[0m\u001b[0;34m(\u001b[0m\u001b[0mget_pose\u001b[0m\u001b[0;34m(\u001b[0m\u001b[0mImage\u001b[0m\u001b[0;34m.\u001b[0m\u001b[0mopen\u001b[0m\u001b[0;34m(\u001b[0m\u001b[0mimg_src\u001b[0m\u001b[0;34m)\u001b[0m\u001b[0;34m)\u001b[0m\u001b[0;34m)\u001b[0m\u001b[0;34m\u001b[0m\u001b[0;34m\u001b[0m\u001b[0m\n\u001b[0m\u001b[1;32m     10\u001b[0m \u001b[0;34m\u001b[0m\u001b[0m\n\u001b[1;32m     11\u001b[0m \u001b[0;32mdef\u001b[0m \u001b[0mrecognize_pose_folder\u001b[0m\u001b[0;34m(\u001b[0m\u001b[0mfolder\u001b[0m\u001b[0;34m)\u001b[0m\u001b[0;34m:\u001b[0m\u001b[0;34m\u001b[0m\u001b[0;34m\u001b[0m\u001b[0m\n",
      "\u001b[0;32m/source/pose.py\u001b[0m in \u001b[0;36mget_pose\u001b[0;34m(image, d)\u001b[0m\n\u001b[1;32m     32\u001b[0m     \u001b[0mimage_batch\u001b[0m \u001b[0;34m=\u001b[0m \u001b[0mdata_to_input\u001b[0m\u001b[0;34m(\u001b[0m\u001b[0mimage\u001b[0m\u001b[0;34m)\u001b[0m\u001b[0;34m\u001b[0m\u001b[0;34m\u001b[0m\u001b[0m\n\u001b[1;32m     33\u001b[0m \u001b[0;34m\u001b[0m\u001b[0m\n\u001b[0;32m---> 34\u001b[0;31m     \u001b[0moutputs_np\u001b[0m \u001b[0;34m=\u001b[0m \u001b[0md\u001b[0m\u001b[0;34m[\u001b[0m\u001b[0;34m'sess'\u001b[0m\u001b[0;34m]\u001b[0m\u001b[0;34m.\u001b[0m\u001b[0mrun\u001b[0m\u001b[0;34m(\u001b[0m\u001b[0md\u001b[0m\u001b[0;34m[\u001b[0m\u001b[0;34m'outputs'\u001b[0m\u001b[0;34m]\u001b[0m\u001b[0;34m,\u001b[0m \u001b[0mfeed_dict\u001b[0m\u001b[0;34m=\u001b[0m\u001b[0;34m{\u001b[0m\u001b[0md\u001b[0m\u001b[0;34m[\u001b[0m\u001b[0;34m'inputs'\u001b[0m\u001b[0;34m]\u001b[0m\u001b[0;34m:\u001b[0m \u001b[0mimage_batch\u001b[0m\u001b[0;34m}\u001b[0m\u001b[0;34m)\u001b[0m\u001b[0;34m\u001b[0m\u001b[0;34m\u001b[0m\u001b[0m\n\u001b[0m\u001b[1;32m     35\u001b[0m     \u001b[0mscmap\u001b[0m\u001b[0;34m,\u001b[0m \u001b[0mlocref\u001b[0m\u001b[0;34m,\u001b[0m \u001b[0m_\u001b[0m \u001b[0;34m=\u001b[0m \u001b[0mpredict\u001b[0m\u001b[0;34m.\u001b[0m\u001b[0mextract_cnn_output\u001b[0m\u001b[0;34m(\u001b[0m\u001b[0moutputs_np\u001b[0m\u001b[0;34m,\u001b[0m \u001b[0md\u001b[0m\u001b[0;34m[\u001b[0m\u001b[0;34m'cfg'\u001b[0m\u001b[0;34m]\u001b[0m\u001b[0;34m)\u001b[0m\u001b[0;34m\u001b[0m\u001b[0;34m\u001b[0m\u001b[0m\n\u001b[1;32m     36\u001b[0m \u001b[0;34m\u001b[0m\u001b[0m\n",
      "\u001b[0;32m/usr/local/lib/python3.6/dist-packages/tensorflow/python/client/session.py\u001b[0m in \u001b[0;36mrun\u001b[0;34m(self, fetches, feed_dict, options, run_metadata)\u001b[0m\n\u001b[1;32m    927\u001b[0m     \u001b[0;32mtry\u001b[0m\u001b[0;34m:\u001b[0m\u001b[0;34m\u001b[0m\u001b[0;34m\u001b[0m\u001b[0m\n\u001b[1;32m    928\u001b[0m       result = self._run(None, fetches, feed_dict, options_ptr,\n\u001b[0;32m--> 929\u001b[0;31m                          run_metadata_ptr)\n\u001b[0m\u001b[1;32m    930\u001b[0m       \u001b[0;32mif\u001b[0m \u001b[0mrun_metadata\u001b[0m\u001b[0;34m:\u001b[0m\u001b[0;34m\u001b[0m\u001b[0;34m\u001b[0m\u001b[0m\n\u001b[1;32m    931\u001b[0m         \u001b[0mproto_data\u001b[0m \u001b[0;34m=\u001b[0m \u001b[0mtf_session\u001b[0m\u001b[0;34m.\u001b[0m\u001b[0mTF_GetBuffer\u001b[0m\u001b[0;34m(\u001b[0m\u001b[0mrun_metadata_ptr\u001b[0m\u001b[0;34m)\u001b[0m\u001b[0;34m\u001b[0m\u001b[0;34m\u001b[0m\u001b[0m\n",
      "\u001b[0;32m/usr/local/lib/python3.6/dist-packages/tensorflow/python/client/session.py\u001b[0m in \u001b[0;36m_run\u001b[0;34m(self, handle, fetches, feed_dict, options, run_metadata)\u001b[0m\n\u001b[1;32m   1150\u001b[0m     \u001b[0;32mif\u001b[0m \u001b[0mfinal_fetches\u001b[0m \u001b[0;32mor\u001b[0m \u001b[0mfinal_targets\u001b[0m \u001b[0;32mor\u001b[0m \u001b[0;34m(\u001b[0m\u001b[0mhandle\u001b[0m \u001b[0;32mand\u001b[0m \u001b[0mfeed_dict_tensor\u001b[0m\u001b[0;34m)\u001b[0m\u001b[0;34m:\u001b[0m\u001b[0;34m\u001b[0m\u001b[0;34m\u001b[0m\u001b[0m\n\u001b[1;32m   1151\u001b[0m       results = self._do_run(handle, final_targets, final_fetches,\n\u001b[0;32m-> 1152\u001b[0;31m                              feed_dict_tensor, options, run_metadata)\n\u001b[0m\u001b[1;32m   1153\u001b[0m     \u001b[0;32melse\u001b[0m\u001b[0;34m:\u001b[0m\u001b[0;34m\u001b[0m\u001b[0;34m\u001b[0m\u001b[0m\n\u001b[1;32m   1154\u001b[0m       \u001b[0mresults\u001b[0m \u001b[0;34m=\u001b[0m \u001b[0;34m[\u001b[0m\u001b[0;34m]\u001b[0m\u001b[0;34m\u001b[0m\u001b[0;34m\u001b[0m\u001b[0m\n",
      "\u001b[0;32m/usr/local/lib/python3.6/dist-packages/tensorflow/python/client/session.py\u001b[0m in \u001b[0;36m_do_run\u001b[0;34m(self, handle, target_list, fetch_list, feed_dict, options, run_metadata)\u001b[0m\n\u001b[1;32m   1326\u001b[0m     \u001b[0;32mif\u001b[0m \u001b[0mhandle\u001b[0m \u001b[0;32mis\u001b[0m \u001b[0;32mNone\u001b[0m\u001b[0;34m:\u001b[0m\u001b[0;34m\u001b[0m\u001b[0;34m\u001b[0m\u001b[0m\n\u001b[1;32m   1327\u001b[0m       return self._do_call(_run_fn, feeds, fetches, targets, options,\n\u001b[0;32m-> 1328\u001b[0;31m                            run_metadata)\n\u001b[0m\u001b[1;32m   1329\u001b[0m     \u001b[0;32melse\u001b[0m\u001b[0;34m:\u001b[0m\u001b[0;34m\u001b[0m\u001b[0;34m\u001b[0m\u001b[0m\n\u001b[1;32m   1330\u001b[0m       \u001b[0;32mreturn\u001b[0m \u001b[0mself\u001b[0m\u001b[0;34m.\u001b[0m\u001b[0m_do_call\u001b[0m\u001b[0;34m(\u001b[0m\u001b[0m_prun_fn\u001b[0m\u001b[0;34m,\u001b[0m \u001b[0mhandle\u001b[0m\u001b[0;34m,\u001b[0m \u001b[0mfeeds\u001b[0m\u001b[0;34m,\u001b[0m \u001b[0mfetches\u001b[0m\u001b[0;34m)\u001b[0m\u001b[0;34m\u001b[0m\u001b[0;34m\u001b[0m\u001b[0m\n",
      "\u001b[0;32m/usr/local/lib/python3.6/dist-packages/tensorflow/python/client/session.py\u001b[0m in \u001b[0;36m_do_call\u001b[0;34m(self, fn, *args)\u001b[0m\n\u001b[1;32m   1332\u001b[0m   \u001b[0;32mdef\u001b[0m \u001b[0m_do_call\u001b[0m\u001b[0;34m(\u001b[0m\u001b[0mself\u001b[0m\u001b[0;34m,\u001b[0m \u001b[0mfn\u001b[0m\u001b[0;34m,\u001b[0m \u001b[0;34m*\u001b[0m\u001b[0margs\u001b[0m\u001b[0;34m)\u001b[0m\u001b[0;34m:\u001b[0m\u001b[0;34m\u001b[0m\u001b[0;34m\u001b[0m\u001b[0m\n\u001b[1;32m   1333\u001b[0m     \u001b[0;32mtry\u001b[0m\u001b[0;34m:\u001b[0m\u001b[0;34m\u001b[0m\u001b[0;34m\u001b[0m\u001b[0m\n\u001b[0;32m-> 1334\u001b[0;31m       \u001b[0;32mreturn\u001b[0m \u001b[0mfn\u001b[0m\u001b[0;34m(\u001b[0m\u001b[0;34m*\u001b[0m\u001b[0margs\u001b[0m\u001b[0;34m)\u001b[0m\u001b[0;34m\u001b[0m\u001b[0;34m\u001b[0m\u001b[0m\n\u001b[0m\u001b[1;32m   1335\u001b[0m     \u001b[0;32mexcept\u001b[0m \u001b[0merrors\u001b[0m\u001b[0;34m.\u001b[0m\u001b[0mOpError\u001b[0m \u001b[0;32mas\u001b[0m \u001b[0me\u001b[0m\u001b[0;34m:\u001b[0m\u001b[0;34m\u001b[0m\u001b[0;34m\u001b[0m\u001b[0m\n\u001b[1;32m   1336\u001b[0m       \u001b[0mmessage\u001b[0m \u001b[0;34m=\u001b[0m \u001b[0mcompat\u001b[0m\u001b[0;34m.\u001b[0m\u001b[0mas_text\u001b[0m\u001b[0;34m(\u001b[0m\u001b[0me\u001b[0m\u001b[0;34m.\u001b[0m\u001b[0mmessage\u001b[0m\u001b[0;34m)\u001b[0m\u001b[0;34m\u001b[0m\u001b[0;34m\u001b[0m\u001b[0m\n",
      "\u001b[0;32m/usr/local/lib/python3.6/dist-packages/tensorflow/python/client/session.py\u001b[0m in \u001b[0;36m_run_fn\u001b[0;34m(feed_dict, fetch_list, target_list, options, run_metadata)\u001b[0m\n\u001b[1;32m   1317\u001b[0m       \u001b[0mself\u001b[0m\u001b[0;34m.\u001b[0m\u001b[0m_extend_graph\u001b[0m\u001b[0;34m(\u001b[0m\u001b[0;34m)\u001b[0m\u001b[0;34m\u001b[0m\u001b[0;34m\u001b[0m\u001b[0m\n\u001b[1;32m   1318\u001b[0m       return self._call_tf_sessionrun(\n\u001b[0;32m-> 1319\u001b[0;31m           options, feed_dict, fetch_list, target_list, run_metadata)\n\u001b[0m\u001b[1;32m   1320\u001b[0m \u001b[0;34m\u001b[0m\u001b[0m\n\u001b[1;32m   1321\u001b[0m     \u001b[0;32mdef\u001b[0m \u001b[0m_prun_fn\u001b[0m\u001b[0;34m(\u001b[0m\u001b[0mhandle\u001b[0m\u001b[0;34m,\u001b[0m \u001b[0mfeed_dict\u001b[0m\u001b[0;34m,\u001b[0m \u001b[0mfetch_list\u001b[0m\u001b[0;34m)\u001b[0m\u001b[0;34m:\u001b[0m\u001b[0;34m\u001b[0m\u001b[0;34m\u001b[0m\u001b[0m\n",
      "\u001b[0;32m/usr/local/lib/python3.6/dist-packages/tensorflow/python/client/session.py\u001b[0m in \u001b[0;36m_call_tf_sessionrun\u001b[0;34m(self, options, feed_dict, fetch_list, target_list, run_metadata)\u001b[0m\n\u001b[1;32m   1405\u001b[0m     return tf_session.TF_SessionRun_wrapper(\n\u001b[1;32m   1406\u001b[0m         \u001b[0mself\u001b[0m\u001b[0;34m.\u001b[0m\u001b[0m_session\u001b[0m\u001b[0;34m,\u001b[0m \u001b[0moptions\u001b[0m\u001b[0;34m,\u001b[0m \u001b[0mfeed_dict\u001b[0m\u001b[0;34m,\u001b[0m \u001b[0mfetch_list\u001b[0m\u001b[0;34m,\u001b[0m \u001b[0mtarget_list\u001b[0m\u001b[0;34m,\u001b[0m\u001b[0;34m\u001b[0m\u001b[0;34m\u001b[0m\u001b[0m\n\u001b[0;32m-> 1407\u001b[0;31m         run_metadata)\n\u001b[0m\u001b[1;32m   1408\u001b[0m \u001b[0;34m\u001b[0m\u001b[0m\n\u001b[1;32m   1409\u001b[0m   \u001b[0;32mdef\u001b[0m \u001b[0m_call_tf_sessionprun\u001b[0m\u001b[0;34m(\u001b[0m\u001b[0mself\u001b[0m\u001b[0;34m,\u001b[0m \u001b[0mhandle\u001b[0m\u001b[0;34m,\u001b[0m \u001b[0mfeed_dict\u001b[0m\u001b[0;34m,\u001b[0m \u001b[0mfetch_list\u001b[0m\u001b[0;34m)\u001b[0m\u001b[0;34m:\u001b[0m\u001b[0;34m\u001b[0m\u001b[0;34m\u001b[0m\u001b[0m\n",
      "\u001b[0;31mKeyboardInterrupt\u001b[0m: "
     ]
    }
   ],
   "source": [
    "import numpy as np\n",
    "from PIL import Image\n",
    "\n",
    "def clip_pose(prob):\n",
    "    leave = [2,3,6,7,8,9,10,11]\n",
    "    return np.array(list(map(lambda a: prob[a], leave)))\n",
    "\n",
    "def process_photo(img_src):\n",
    "    return clip_pose(get_pose(Image.open(img_src)))\n",
    "\n",
    "def recognize_pose_folder(folder):\n",
    "    filelist = list_full_path(folder)\n",
    "    full = len(filelist)\n",
    "    current = 0\n",
    "    for img_src in filelist:\n",
    "        current += 1\n",
    "        print(f\"Processing {current} out of {full}, {img_src}\")\n",
    "        yield (process_photo(img_src))\n",
    "\n",
    "def process_folder(folder):\n",
    "    return np.array(list(recognize_pose_folder(folder)))\n",
    "\n",
    "dirs = [\n",
    "    (0, process_folder(\"/ds/dataset2/0\")),\n",
    "    (1, process_folder(\"/ds/dataset2/1\")),\n",
    "    (2, process_folder(\"/ds/dataset2/2\")),\n",
    "    (3, process_folder(\"/ds/dataset2/3\"))\n",
    "]"
   ]
  },
  {
   "cell_type": "code",
   "execution_count": null,
   "metadata": {},
   "outputs": [],
   "source": []
  }
 ],
 "metadata": {
  "kernelspec": {
   "display_name": "Python 3",
   "language": "python",
   "name": "python3"
  },
  "language_info": {
   "codemirror_mode": {
    "name": "ipython",
    "version": 3
   },
   "file_extension": ".py",
   "mimetype": "text/x-python",
   "name": "python",
   "nbconvert_exporter": "python",
   "pygments_lexer": "ipython3",
   "version": "3.6.9"
  }
 },
 "nbformat": 4,
 "nbformat_minor": 2
}
